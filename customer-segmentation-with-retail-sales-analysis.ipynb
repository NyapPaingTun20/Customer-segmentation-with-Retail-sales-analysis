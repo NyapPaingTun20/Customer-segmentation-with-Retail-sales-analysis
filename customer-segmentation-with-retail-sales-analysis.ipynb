{
 "cells": [
  {
   "cell_type": "code",
   "execution_count": 1,
   "id": "88678978",
   "metadata": {
    "_cell_guid": "b1076dfc-b9ad-4769-8c92-a6c4dae69d19",
    "_uuid": "8f2839f25d086af736a60e9eeb907d3b93b6e0e5",
    "execution": {
     "iopub.execute_input": "2025-05-15T18:27:45.709017Z",
     "iopub.status.busy": "2025-05-15T18:27:45.708687Z",
     "iopub.status.idle": "2025-05-15T18:27:47.727260Z",
     "shell.execute_reply": "2025-05-15T18:27:47.726222Z"
    },
    "papermill": {
     "duration": 2.024847,
     "end_time": "2025-05-15T18:27:47.728858",
     "exception": false,
     "start_time": "2025-05-15T18:27:45.704011",
     "status": "completed"
    },
    "tags": []
   },
   "outputs": [
    {
     "name": "stdout",
     "output_type": "stream",
     "text": [
      "/kaggle/input/retail-sales-dataset/retail_sales_dataset.csv\n"
     ]
    }
   ],
   "source": [
    "# This Python 3 environment comes with many helpful analytics libraries installed\n",
    "# It is defined by the kaggle/python Docker image: https://github.com/kaggle/docker-python\n",
    "# For example, here's several helpful packages to load\n",
    "\n",
    "import numpy as np # linear algebra\n",
    "import pandas as pd # data processing, CSV file I/O (e.g. pd.read_csv)\n",
    "\n",
    "# Input data files are available in the read-only \"../input/\" directory\n",
    "# For example, running this (by clicking run or pressing Shift+Enter) will list all files under the input directory\n",
    "\n",
    "import os\n",
    "for dirname, _, filenames in os.walk('/kaggle/input'):\n",
    "    for filename in filenames:\n",
    "        print(os.path.join(dirname, filename))\n",
    "\n",
    "# You can write up to 20GB to the current directory (/kaggle/working/) that gets preserved as output when you create a version using \"Save & Run All\" \n",
    "# You can also write temporary files to /kaggle/temp/, but they won't be saved outside of the current session"
   ]
  },
  {
   "cell_type": "markdown",
   "id": "880a932c",
   "metadata": {
    "papermill": {
     "duration": 0.002404,
     "end_time": "2025-05-15T18:27:47.735056",
     "exception": false,
     "start_time": "2025-05-15T18:27:47.732652",
     "status": "completed"
    },
    "tags": []
   },
   "source": [
    "# Customer Segmentation With Python"
   ]
  },
  {
   "cell_type": "markdown",
   "id": "0b00fdfb",
   "metadata": {
    "papermill": {
     "duration": 0.002274,
     "end_time": "2025-05-15T18:27:47.739916",
     "exception": false,
     "start_time": "2025-05-15T18:27:47.737642",
     "status": "completed"
    },
    "tags": []
   },
   "source": [
    "## Objective\n",
    "\n",
    "Analyze transaction-level data to:\n",
    "\n",
    "* Segment one-time customers into spending tiers using a 4-star rating system.\n",
    "\n",
    "* Discover patterns by gender, age group, and product category\n",
    "\n",
    "* Visualize insights in an interactive Excel dashboard\n",
    "\n",
    "* Provide recommendations for improving marketing and sales strategies\n",
    "\n",
    "### Tools \n",
    "\n",
    "* Python & Excel \n"
   ]
  },
  {
   "cell_type": "markdown",
   "id": "5062f3ba",
   "metadata": {
    "papermill": {
     "duration": 0.002273,
     "end_time": "2025-05-15T18:27:47.744622",
     "exception": false,
     "start_time": "2025-05-15T18:27:47.742349",
     "status": "completed"
    },
    "tags": []
   },
   "source": [
    "## Dataset Description\n",
    "The dataset includes the following columns:\n",
    "\n",
    "**Column**\t          _**Description**\n",
    "\n",
    "Transaction ID\t      _Unique ID for each transaction\n",
    "\n",
    "Date\t              _Date of transaction\n",
    "\n",
    "Customer ID\t          _Unique customer identifier\n",
    "\n",
    "Gender             \t  _Male/Female\n",
    "\n",
    "Age\t                  _Customer’s age\n",
    "\n",
    "Product Category\t  _Product type (e.g., Electronics, Clothing)\n",
    "\n",
    "Quantity\t          _Units purchased\n",
    "\n",
    "Price per Unit\t      _Cost per unit\n",
    "\n",
    "Total Amount\t      _Quantity × Price per Unit"
   ]
  },
  {
   "cell_type": "markdown",
   "id": "52efdf1a",
   "metadata": {
    "papermill": {
     "duration": 0.002213,
     "end_time": "2025-05-15T18:27:47.749238",
     "exception": false,
     "start_time": "2025-05-15T18:27:47.747025",
     "status": "completed"
    },
    "tags": []
   },
   "source": [
    "\n",
    "## Segmentation plan \n",
    "\n",
    "I 'll create 4 customer groups based on Total Amount spent:\n",
    "\n",
    "| Spending Range | Star Level | Label             |\n",
    "| -------------- | ---------- | ----------------- |\n",
    "| Lowest 25%     | 1         | Budget Shoppers   |\n",
    "| 25%–50%        | 2         | Moderate Spenders |\n",
    "| 50%–75%        | 3         | High Spenders     |\n",
    "| Top 25%        | 4         | Premium Buyers    |\n"
   ]
  },
  {
   "cell_type": "markdown",
   "id": "523935f4",
   "metadata": {
    "papermill": {
     "duration": 0.002179,
     "end_time": "2025-05-15T18:27:47.753795",
     "exception": false,
     "start_time": "2025-05-15T18:27:47.751616",
     "status": "completed"
    },
    "tags": []
   },
   "source": [
    "## Coding "
   ]
  },
  {
   "cell_type": "code",
   "execution_count": 2,
   "id": "8f5e8ac9",
   "metadata": {
    "execution": {
     "iopub.execute_input": "2025-05-15T18:27:47.760764Z",
     "iopub.status.busy": "2025-05-15T18:27:47.760341Z",
     "iopub.status.idle": "2025-05-15T18:27:47.764749Z",
     "shell.execute_reply": "2025-05-15T18:27:47.763925Z"
    },
    "papermill": {
     "duration": 0.009497,
     "end_time": "2025-05-15T18:27:47.766177",
     "exception": false,
     "start_time": "2025-05-15T18:27:47.756680",
     "status": "completed"
    },
    "tags": []
   },
   "outputs": [],
   "source": [
    "#imput the packages\n",
    "import pandas as pd\n",
    "import numpy as np\n",
    "import datetime as dt"
   ]
  },
  {
   "cell_type": "code",
   "execution_count": 3,
   "id": "e02a2c57",
   "metadata": {
    "execution": {
     "iopub.execute_input": "2025-05-15T18:27:47.772617Z",
     "iopub.status.busy": "2025-05-15T18:27:47.772322Z",
     "iopub.status.idle": "2025-05-15T18:27:47.811314Z",
     "shell.execute_reply": "2025-05-15T18:27:47.810066Z"
    },
    "papermill": {
     "duration": 0.046792,
     "end_time": "2025-05-15T18:27:47.815688",
     "exception": false,
     "start_time": "2025-05-15T18:27:47.768896",
     "status": "completed"
    },
    "tags": []
   },
   "outputs": [],
   "source": [
    "#load Dataset\n",
    "df = pd.read_csv(\"/kaggle/input/retail-sales-dataset/retail_sales_dataset.csv\")  # Replace with your actual file name\n",
    "df['Date'] = pd.to_datetime(df['Date'])"
   ]
  },
  {
   "cell_type": "code",
   "execution_count": 4,
   "id": "ae6002be",
   "metadata": {
    "execution": {
     "iopub.execute_input": "2025-05-15T18:27:47.826579Z",
     "iopub.status.busy": "2025-05-15T18:27:47.826175Z",
     "iopub.status.idle": "2025-05-15T18:27:47.854892Z",
     "shell.execute_reply": "2025-05-15T18:27:47.853847Z"
    },
    "papermill": {
     "duration": 0.036879,
     "end_time": "2025-05-15T18:27:47.857076",
     "exception": false,
     "start_time": "2025-05-15T18:27:47.820197",
     "status": "completed"
    },
    "tags": []
   },
   "outputs": [],
   "source": [
    "#Feature Engineering \n",
    "\n",
    "## Create Spending Tier \n",
    "df['Spending Tier'] = pd.qcut(df['Total Amount'], 4, labels=['1', '2', '3', '4'])\n",
    "\n",
    "## Create Age Group \n",
    "\n",
    "df['Age Group'] = pd.cut(df['Age'], bins=[17, 25, 35, 50, 70], labels=['18–25', '26–35', '36–50', '51+'])"
   ]
  },
  {
   "cell_type": "code",
   "execution_count": 5,
   "id": "7c156495",
   "metadata": {
    "execution": {
     "iopub.execute_input": "2025-05-15T18:27:47.867421Z",
     "iopub.status.busy": "2025-05-15T18:27:47.866876Z",
     "iopub.status.idle": "2025-05-15T18:27:47.888693Z",
     "shell.execute_reply": "2025-05-15T18:27:47.887572Z"
    },
    "papermill": {
     "duration": 0.030055,
     "end_time": "2025-05-15T18:27:47.891327",
     "exception": false,
     "start_time": "2025-05-15T18:27:47.861272",
     "status": "completed"
    },
    "tags": []
   },
   "outputs": [],
   "source": [
    "#Export for excel Dashboard\n",
    "\n",
    "df.to_csv(\"customer_segmentation_stars.csv\", index=False)\n"
   ]
  },
  {
   "cell_type": "code",
   "execution_count": 6,
   "id": "e7d88ed7",
   "metadata": {
    "execution": {
     "iopub.execute_input": "2025-05-15T18:27:47.897983Z",
     "iopub.status.busy": "2025-05-15T18:27:47.897654Z",
     "iopub.status.idle": "2025-05-15T18:27:47.922243Z",
     "shell.execute_reply": "2025-05-15T18:27:47.921263Z"
    },
    "papermill": {
     "duration": 0.029636,
     "end_time": "2025-05-15T18:27:47.923769",
     "exception": false,
     "start_time": "2025-05-15T18:27:47.894133",
     "status": "completed"
    },
    "tags": []
   },
   "outputs": [
    {
     "data": {
      "text/html": [
       "<div>\n",
       "<style scoped>\n",
       "    .dataframe tbody tr th:only-of-type {\n",
       "        vertical-align: middle;\n",
       "    }\n",
       "\n",
       "    .dataframe tbody tr th {\n",
       "        vertical-align: top;\n",
       "    }\n",
       "\n",
       "    .dataframe thead th {\n",
       "        text-align: right;\n",
       "    }\n",
       "</style>\n",
       "<table border=\"1\" class=\"dataframe\">\n",
       "  <thead>\n",
       "    <tr style=\"text-align: right;\">\n",
       "      <th></th>\n",
       "      <th>Transaction ID</th>\n",
       "      <th>Date</th>\n",
       "      <th>Customer ID</th>\n",
       "      <th>Gender</th>\n",
       "      <th>Age</th>\n",
       "      <th>Product Category</th>\n",
       "      <th>Quantity</th>\n",
       "      <th>Price per Unit</th>\n",
       "      <th>Total Amount</th>\n",
       "      <th>Spending Tier</th>\n",
       "      <th>Age Group</th>\n",
       "    </tr>\n",
       "  </thead>\n",
       "  <tbody>\n",
       "    <tr>\n",
       "      <th>0</th>\n",
       "      <td>1</td>\n",
       "      <td>2023-11-24</td>\n",
       "      <td>CUST001</td>\n",
       "      <td>Male</td>\n",
       "      <td>34</td>\n",
       "      <td>Beauty</td>\n",
       "      <td>3</td>\n",
       "      <td>50</td>\n",
       "      <td>150</td>\n",
       "      <td>3</td>\n",
       "      <td>26–35</td>\n",
       "    </tr>\n",
       "    <tr>\n",
       "      <th>1</th>\n",
       "      <td>2</td>\n",
       "      <td>2023-02-27</td>\n",
       "      <td>CUST002</td>\n",
       "      <td>Female</td>\n",
       "      <td>26</td>\n",
       "      <td>Clothing</td>\n",
       "      <td>2</td>\n",
       "      <td>500</td>\n",
       "      <td>1000</td>\n",
       "      <td>4</td>\n",
       "      <td>26–35</td>\n",
       "    </tr>\n",
       "    <tr>\n",
       "      <th>2</th>\n",
       "      <td>3</td>\n",
       "      <td>2023-01-13</td>\n",
       "      <td>CUST003</td>\n",
       "      <td>Male</td>\n",
       "      <td>50</td>\n",
       "      <td>Electronics</td>\n",
       "      <td>1</td>\n",
       "      <td>30</td>\n",
       "      <td>30</td>\n",
       "      <td>1</td>\n",
       "      <td>36–50</td>\n",
       "    </tr>\n",
       "    <tr>\n",
       "      <th>3</th>\n",
       "      <td>4</td>\n",
       "      <td>2023-05-21</td>\n",
       "      <td>CUST004</td>\n",
       "      <td>Male</td>\n",
       "      <td>37</td>\n",
       "      <td>Clothing</td>\n",
       "      <td>1</td>\n",
       "      <td>500</td>\n",
       "      <td>500</td>\n",
       "      <td>3</td>\n",
       "      <td>36–50</td>\n",
       "    </tr>\n",
       "    <tr>\n",
       "      <th>4</th>\n",
       "      <td>5</td>\n",
       "      <td>2023-05-06</td>\n",
       "      <td>CUST005</td>\n",
       "      <td>Male</td>\n",
       "      <td>30</td>\n",
       "      <td>Beauty</td>\n",
       "      <td>2</td>\n",
       "      <td>50</td>\n",
       "      <td>100</td>\n",
       "      <td>2</td>\n",
       "      <td>26–35</td>\n",
       "    </tr>\n",
       "    <tr>\n",
       "      <th>5</th>\n",
       "      <td>6</td>\n",
       "      <td>2023-04-25</td>\n",
       "      <td>CUST006</td>\n",
       "      <td>Female</td>\n",
       "      <td>45</td>\n",
       "      <td>Beauty</td>\n",
       "      <td>1</td>\n",
       "      <td>30</td>\n",
       "      <td>30</td>\n",
       "      <td>1</td>\n",
       "      <td>36–50</td>\n",
       "    </tr>\n",
       "    <tr>\n",
       "      <th>6</th>\n",
       "      <td>7</td>\n",
       "      <td>2023-03-13</td>\n",
       "      <td>CUST007</td>\n",
       "      <td>Male</td>\n",
       "      <td>46</td>\n",
       "      <td>Clothing</td>\n",
       "      <td>2</td>\n",
       "      <td>25</td>\n",
       "      <td>50</td>\n",
       "      <td>1</td>\n",
       "      <td>36–50</td>\n",
       "    </tr>\n",
       "    <tr>\n",
       "      <th>7</th>\n",
       "      <td>8</td>\n",
       "      <td>2023-02-22</td>\n",
       "      <td>CUST008</td>\n",
       "      <td>Male</td>\n",
       "      <td>30</td>\n",
       "      <td>Electronics</td>\n",
       "      <td>4</td>\n",
       "      <td>25</td>\n",
       "      <td>100</td>\n",
       "      <td>2</td>\n",
       "      <td>26–35</td>\n",
       "    </tr>\n",
       "    <tr>\n",
       "      <th>8</th>\n",
       "      <td>9</td>\n",
       "      <td>2023-12-13</td>\n",
       "      <td>CUST009</td>\n",
       "      <td>Male</td>\n",
       "      <td>63</td>\n",
       "      <td>Electronics</td>\n",
       "      <td>2</td>\n",
       "      <td>300</td>\n",
       "      <td>600</td>\n",
       "      <td>3</td>\n",
       "      <td>51+</td>\n",
       "    </tr>\n",
       "    <tr>\n",
       "      <th>9</th>\n",
       "      <td>10</td>\n",
       "      <td>2023-10-07</td>\n",
       "      <td>CUST010</td>\n",
       "      <td>Female</td>\n",
       "      <td>52</td>\n",
       "      <td>Clothing</td>\n",
       "      <td>4</td>\n",
       "      <td>50</td>\n",
       "      <td>200</td>\n",
       "      <td>3</td>\n",
       "      <td>51+</td>\n",
       "    </tr>\n",
       "  </tbody>\n",
       "</table>\n",
       "</div>"
      ],
      "text/plain": [
       "   Transaction ID       Date Customer ID  Gender  Age Product Category  \\\n",
       "0               1 2023-11-24     CUST001    Male   34           Beauty   \n",
       "1               2 2023-02-27     CUST002  Female   26         Clothing   \n",
       "2               3 2023-01-13     CUST003    Male   50      Electronics   \n",
       "3               4 2023-05-21     CUST004    Male   37         Clothing   \n",
       "4               5 2023-05-06     CUST005    Male   30           Beauty   \n",
       "5               6 2023-04-25     CUST006  Female   45           Beauty   \n",
       "6               7 2023-03-13     CUST007    Male   46         Clothing   \n",
       "7               8 2023-02-22     CUST008    Male   30      Electronics   \n",
       "8               9 2023-12-13     CUST009    Male   63      Electronics   \n",
       "9              10 2023-10-07     CUST010  Female   52         Clothing   \n",
       "\n",
       "   Quantity  Price per Unit  Total Amount Spending Tier Age Group  \n",
       "0         3              50           150             3     26–35  \n",
       "1         2             500          1000             4     26–35  \n",
       "2         1              30            30             1     36–50  \n",
       "3         1             500           500             3     36–50  \n",
       "4         2              50           100             2     26–35  \n",
       "5         1              30            30             1     36–50  \n",
       "6         2              25            50             1     36–50  \n",
       "7         4              25           100             2     26–35  \n",
       "8         2             300           600             3       51+  \n",
       "9         4              50           200             3       51+  "
      ]
     },
     "execution_count": 6,
     "metadata": {},
     "output_type": "execute_result"
    }
   ],
   "source": [
    "#Checking Dataset \n",
    "df.head(10)"
   ]
  },
  {
   "cell_type": "markdown",
   "id": "ac7205cf",
   "metadata": {
    "papermill": {
     "duration": 0.002597,
     "end_time": "2025-05-15T18:27:47.929372",
     "exception": false,
     "start_time": "2025-05-15T18:27:47.926775",
     "status": "completed"
    },
    "tags": []
   },
   "source": []
  }
 ],
 "metadata": {
  "kaggle": {
   "accelerator": "none",
   "dataSources": [
    {
     "datasetId": 3655505,
     "sourceId": 6347913,
     "sourceType": "datasetVersion"
    }
   ],
   "dockerImageVersionId": 31040,
   "isGpuEnabled": false,
   "isInternetEnabled": true,
   "language": "python",
   "sourceType": "notebook"
  },
  "kernelspec": {
   "display_name": "Python 3",
   "language": "python",
   "name": "python3"
  },
  "language_info": {
   "codemirror_mode": {
    "name": "ipython",
    "version": 3
   },
   "file_extension": ".py",
   "mimetype": "text/x-python",
   "name": "python",
   "nbconvert_exporter": "python",
   "pygments_lexer": "ipython3",
   "version": "3.11.11"
  },
  "papermill": {
   "default_parameters": {},
   "duration": 7.860928,
   "end_time": "2025-05-15T18:27:48.452635",
   "environment_variables": {},
   "exception": null,
   "input_path": "__notebook__.ipynb",
   "output_path": "__notebook__.ipynb",
   "parameters": {},
   "start_time": "2025-05-15T18:27:40.591707",
   "version": "2.6.0"
  }
 },
 "nbformat": 4,
 "nbformat_minor": 5
}
